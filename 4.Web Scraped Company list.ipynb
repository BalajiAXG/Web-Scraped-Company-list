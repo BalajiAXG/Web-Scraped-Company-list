{
 "cells": [
  {
   "cell_type": "code",
   "execution_count": 0,
   "metadata": {
    "application/vnd.databricks.v1+cell": {
     "cellMetadata": {
      "byteLimit": 2048000,
      "rowLimit": 10000
     },
     "inputWidgets": {},
     "nuid": "d440e171-0ba3-492a-9630-e2150ae70a32",
     "showTitle": false,
     "title": ""
    }
   },
   "outputs": [
    {
     "output_type": "display_data",
     "data": {
      "application/vnd.databricks.v1+bamboolib_hint": "{\"pd.DataFrames\": [], \"version\": \"0.0.1\"}",
      "text/plain": []
     },
     "metadata": {},
     "output_type": "display_data"
    }
   ],
   "source": [
    "from bs4 import BeautifulSoup\n",
    "import requests\n",
    "url = 'https://en.wikipedia.org/wiki/List_of_largest_companies_in_the_United_States_by_revenue'\n",
    "\n",
    "page = requests.get(url)\n",
    "\n",
    "soup = BeautifulSoup(page.text, 'html')\n",
    "\n",
    "soup.find(\"table\")\n",
    "\n",
    "table = soup.find_all(\"table\")[1]\n",
    "\n",
    "soup.find(\"table\",class_=\"wikitable sortable\")\n",
    "\n",
    "world_titles = table.find_all('th')\n",
    "\n",
    "\n",
    "world_table_titles = [title.text.strip() for title in world_titles]\n",
    "\n",
    "# print(world_table_titles)\n",
    "\n",
    "import pandas as pd\n",
    "\n",
    "df = pd.DataFrame(columns = world_table_titles)\n",
    "\n",
    "column_data = table.find_all('tr')\n",
    "\n",
    "for row in column_data[1:]:\n",
    "    row_data = row.find_all('td')\n",
    "    individual_row_data = [data.text.strip() for data in row_data]\n",
    "\n",
    "    length = len(df)\n",
    "    df.loc[length] = individual_row_data\n"
   ]
  },
  {
   "cell_type": "code",
   "execution_count": 0,
   "metadata": {
    "application/vnd.databricks.v1+cell": {
     "cellMetadata": {
      "byteLimit": 2048000,
      "rowLimit": 10000
     },
     "inputWidgets": {},
     "nuid": "4dc695c1-bfb5-434d-bfd3-e957eb6990de",
     "showTitle": false,
     "title": ""
    }
   },
   "outputs": [],
   "source": [
    "df.to_csv(\"top company in US\",index = False)"
   ]
  },
  {
   "cell_type": "code",
   "execution_count": 0,
   "metadata": {
    "application/vnd.databricks.v1+cell": {
     "cellMetadata": {
      "byteLimit": 2048000,
      "rowLimit": 10000
     },
     "inputWidgets": {},
     "nuid": "6aed1964-a6d9-4036-8dd1-5d7a22c9db0f",
     "showTitle": false,
     "title": ""
    }
   },
   "outputs": [
    {
     "output_type": "stream",
     "name": "stdout",
     "output_type": "stream",
     "text": [
      "Out[4]: [FileInfo(path='file:/databricks/driver/conf/', name='conf/', size=4096, modificationTime=1710926178381),\n FileInfo(path='file:/databricks/driver/preload_class.lst', name='preload_class.lst', size=1306936, modificationTime=1710926179741),\n FileInfo(path='file:/databricks/driver/azure/', name='azure/', size=4096, modificationTime=1710926179629),\n FileInfo(path='file:/databricks/driver/hadoop_accessed_config.lst', name='hadoop_accessed_config.lst', size=2755, modificationTime=1710926179661),\n FileInfo(path='file:/databricks/driver/ganglia/', name='ganglia/', size=4096, modificationTime=1710931502128),\n FileInfo(path='file:/databricks/driver/top company in US', name='top company in US', size=8034, modificationTime=1710931825324),\n FileInfo(path='file:/databricks/driver/logs/', name='logs/', size=4096, modificationTime=1710929568104),\n FileInfo(path='file:/databricks/driver/eventlogs/', name='eventlogs/', size=4096, modificationTime=1710926432309),\n FileInfo(path='file:/databricks/driver/.cache', name='.cache', size=205, modificationTime=1710928862436),\n FileInfo(path='file:/databricks/driver/all_posts_info.csv', name='all_posts_info.csv', size=2181, modificationTime=1710926948189),\n FileInfo(path='file:/databricks/driver/metastore_db/', name='metastore_db/', size=4096, modificationTime=1710926774881)]"
     ]
    }
   ],
   "source": [
    "dbutils.fs.ls('file:/databricks/driver')"
   ]
  },
  {
   "cell_type": "code",
   "execution_count": 0,
   "metadata": {
    "application/vnd.databricks.v1+cell": {
     "cellMetadata": {
      "byteLimit": 2048000,
      "rowLimit": 10000
     },
     "inputWidgets": {},
     "nuid": "fbc1a003-7278-46bb-8177-a1eb91febe8d",
     "showTitle": false,
     "title": ""
    }
   },
   "outputs": [
    {
     "output_type": "stream",
     "name": "stdout",
     "output_type": "stream",
     "text": [
      "Out[5]: True"
     ]
    }
   ],
   "source": [
    "dbutils.fs.mv('file:/databricks/driver/top company in US', '/top company in US', recurse=True)"
   ]
  },
  {
   "cell_type": "code",
   "execution_count": 0,
   "metadata": {
    "application/vnd.databricks.v1+cell": {
     "cellMetadata": {
      "byteLimit": 2048000,
      "rowLimit": 10000
     },
     "inputWidgets": {},
     "nuid": "0bd681a3-499d-4fa0-8c1d-9e83ede14e0d",
     "showTitle": false,
     "title": ""
    }
   },
   "outputs": [
    {
     "output_type": "display_data",
     "data": {
      "text/html": [
       "<style scoped>\n",
       "  .table-result-container {\n",
       "    max-height: 300px;\n",
       "    overflow: auto;\n",
       "  }\n",
       "  table, th, td {\n",
       "    border: 1px solid black;\n",
       "    border-collapse: collapse;\n",
       "  }\n",
       "  th, td {\n",
       "    padding: 5px;\n",
       "  }\n",
       "  th {\n",
       "    text-align: left;\n",
       "  }\n",
       "</style><div class='table-result-container'><table class='table-result'><thead style='background-color: white'><tr><th>_c0</th><th>_c1</th><th>_c2</th><th>_c3</th><th>_c4</th><th>_c5</th><th>_c6</th></tr></thead><tbody><tr><td>Rank</td><td>Name</td><td>Industry</td><td>Revenue (USD millions)</td><td>Revenue growth</td><td>Employees</td><td>Headquarters</td></tr><tr><td>1</td><td>Walmart</td><td>Retail</td><td>611,289</td><td>6.7%</td><td>2,100,000</td><td>Bentonville, Arkansas</td></tr><tr><td>2</td><td>Amazon</td><td>Retail and cloud computing</td><td>513,983</td><td>9.4%</td><td>1,540,000</td><td>Seattle, Washington</td></tr><tr><td>3</td><td>ExxonMobil</td><td>Petroleum industry</td><td>413,680</td><td>44.8%</td><td>62,000</td><td>Spring, Texas</td></tr><tr><td>4</td><td>Apple</td><td>Electronics industry</td><td>394,328</td><td>7.8%</td><td>164,000</td><td>Cupertino, California</td></tr><tr><td>5</td><td>UnitedHealth Group</td><td>Healthcare</td><td>324,162</td><td>12.7%</td><td>400,000</td><td>Minnetonka, Minnesota</td></tr><tr><td>6</td><td>CVS Health</td><td>Healthcare</td><td>322,467</td><td>10.4%</td><td>259,500</td><td>Woonsocket, Rhode Island</td></tr><tr><td>7</td><td>Berkshire Hathaway</td><td>Conglomerate</td><td>302,089</td><td>9.4%</td><td>383,000</td><td>Omaha, Nebraska</td></tr><tr><td>8</td><td>Alphabet</td><td>Technology and cloud computing</td><td>282,836</td><td>9.8%</td><td>156,000</td><td>Mountain View, California</td></tr><tr><td>9</td><td>McKesson Corporation</td><td>Health</td><td>276,711</td><td>4.8%</td><td>48,500</td><td>Irving, Texas</td></tr><tr><td>10</td><td>Chevron Corporation</td><td>Petroleum industry</td><td>246,252</td><td>51.6%</td><td>43,846</td><td>San Ramon, California</td></tr><tr><td>11</td><td>AmerisourceBergen</td><td>Pharmacy wholesale</td><td>238,587</td><td>11.5%</td><td>41,500</td><td>Chesterbrook, Pennsylvania</td></tr><tr><td>12</td><td>Costco</td><td>Retail</td><td>226,954</td><td>15.8%</td><td>304,000</td><td>Issaquah, Washington</td></tr><tr><td>13</td><td>Microsoft</td><td>Technology and cloud computing</td><td>198,270</td><td>18.0%</td><td>221,000</td><td>Redmond, Washington</td></tr><tr><td>14</td><td>Cardinal Health</td><td>Healthcare</td><td>181,364</td><td>11.6%</td><td>46,035</td><td>Dublin, Ohio</td></tr><tr><td>15</td><td>Cigna</td><td>Health insurance</td><td>180,516</td><td>3.7%</td><td>70,231</td><td>Bloomfield, Connecticut</td></tr><tr><td>16</td><td>Marathon Petroleum</td><td>Petroleum industry</td><td>180,012</td><td>27.6%</td><td>17,800</td><td>Findlay, Ohio</td></tr><tr><td>17</td><td>Phillips 66</td><td>Petroleum industry</td><td>175,702</td><td>53.0%</td><td>13,000</td><td>Houston, Texas</td></tr><tr><td>18</td><td>Valero Energy</td><td>Petroleum industry</td><td>171,189</td><td>58.0%</td><td>9,743</td><td>San Antonio, Texas</td></tr><tr><td>19</td><td>Ford Motor Company</td><td>Automotive industry</td><td>158,057</td><td>15.9%</td><td>173,000</td><td>Dearborn, Michigan</td></tr><tr><td>20</td><td>The Home Depot</td><td>Retail</td><td>157,403</td><td>4.1%</td><td>471,600</td><td>Atlanta, Georgia</td></tr><tr><td>21</td><td>General Motors</td><td>Automotive industry</td><td>156,735</td><td>23.4%</td><td>167,000</td><td>Detroit, Michigan</td></tr><tr><td>22</td><td>Elevance Health</td><td>Healthcare</td><td>156,595</td><td>13.0%</td><td>102,200</td><td>Indianapolis, Indiana</td></tr><tr><td>23</td><td>JPMorgan Chase</td><td>Financial services</td><td>154,792</td><td>21.7%</td><td>293,723</td><td>New York City, New York</td></tr><tr><td>24</td><td>Kroger</td><td>Retail</td><td>148,258</td><td>7.5%</td><td>430,000</td><td>Cincinnati, Ohio</td></tr><tr><td>25</td><td>Centene</td><td>Healthcare</td><td>144,547</td><td>14.7%</td><td>74,300</td><td>St. Louis, Missouri</td></tr><tr><td>26</td><td>Verizon Communications</td><td>Telecommunications</td><td>136,835</td><td>2.4%</td><td>117,100</td><td>New York City, New York</td></tr><tr><td>27</td><td>Walgreens Boots Alliance</td><td>Pharmaceutical industry</td><td>132,703</td><td>10.7%</td><td>262,500</td><td>Deerfield, Illinois</td></tr><tr><td>28</td><td>Fannie Mae</td><td>Financials</td><td>121,596</td><td>19.7%</td><td>8,000</td><td>Washington, D.C.</td></tr><tr><td>29</td><td>Comcast</td><td>Telecommunications</td><td>121,427</td><td>4.3%</td><td>186,000</td><td>Philadelphia, Pennsylvania</td></tr><tr><td>30</td><td>AT&T</td><td>Conglomerate and telecomunications</td><td>120,741</td><td>28.5%</td><td>160,700</td><td>Dallas, Texas</td></tr><tr><td>31</td><td>Meta Platforms</td><td>Technology</td><td>116,609</td><td>1.1%</td><td>86,482</td><td>Menlo Park, California</td></tr><tr><td>32</td><td>Bank of America</td><td>Financials</td><td>115,053</td><td>22.6%</td><td>216,823</td><td>Charlotte, North Carolina</td></tr><tr><td>33</td><td>Target Corporation</td><td>Retail</td><td>109,120</td><td>2.9%</td><td>440,000</td><td>Minneapolis, Minnesota</td></tr><tr><td>34</td><td>Dell Technologies</td><td>Technology</td><td>102,301</td><td>4.4%</td><td>133,000</td><td>Round Rock, Texas</td></tr><tr><td>35</td><td>Archer Daniels Midland</td><td>Food industry</td><td>101,556</td><td>19.1%</td><td>41,181</td><td>Chicago, Illinois</td></tr><tr><td>36</td><td>Citigroup</td><td>Financials</td><td>101,078</td><td>26.6%</td><td>238,104</td><td>New York City, New York</td></tr><tr><td>37</td><td>United Parcel Service</td><td>Transportation</td><td>100,338</td><td>3.1%</td><td>404,700</td><td>Atlanta, Georgia</td></tr><tr><td>38</td><td>Pfizer</td><td>Pharmaceutical industry</td><td>100,330</td><td>23.4%</td><td>83,000</td><td>New York City, New York</td></tr><tr><td>39</td><td>Lowe's</td><td>Retail</td><td>97,059</td><td>0.8%</td><td>244,500</td><td>Mooresville, North Carolina</td></tr><tr><td>40</td><td>Johnson & Johnson</td><td>Pharmaceutical industry</td><td>94,943</td><td>1.2%</td><td>152,700</td><td>New Brunswick, New Jersey</td></tr><tr><td>41</td><td>FedEx</td><td>Transportation</td><td>93,512</td><td>11.4%</td><td>518,249</td><td>Memphis, Tennessee</td></tr><tr><td>42</td><td>Humana</td><td>Health insurance</td><td>92,870</td><td>11.8%</td><td>67,100</td><td>Louisville, Kentucky</td></tr><tr><td>43</td><td>Energy Transfer Partners</td><td>Petroleum industry</td><td>89,876</td><td>33.3%</td><td>12,565</td><td>Dallas, Texas</td></tr><tr><td>44</td><td>State Farm</td><td>Financials</td><td>89,328</td><td>8.6%</td><td>60,519</td><td>Bloomington, Illinois</td></tr><tr><td>45</td><td>Freddie Mac</td><td>Financials</td><td>86,717</td><td>31.6%</td><td>7,819</td><td>McLean, Virginia</td></tr><tr><td>46</td><td>PepsiCo</td><td>Beverage</td><td>86,859</td><td>8.7%</td><td>315,000</td><td>Purchase, New York</td></tr><tr><td>47</td><td>Wells Fargo</td><td>Financials</td><td>82,859</td><td>0.5%</td><td>238,000</td><td>San Francisco, California</td></tr><tr><td>48</td><td>The Walt Disney Company</td><td>Media</td><td>82,722</td><td>22.7%</td><td>195,800</td><td>Burbank, California</td></tr><tr><td>49</td><td>ConocoPhillips</td><td>Petroleum industry</td><td>82,156</td><td>69.9%</td><td>9,500</td><td>Houston, Texas</td></tr><tr><td>50</td><td>Tesla</td><td>Automotive and energy</td><td>81,462</td><td>51.4%</td><td>127,855</td><td>Austin, Texas</td></tr><tr><td>51</td><td>Procter & Gamble</td><td>Consumer products manufacturing</td><td>80,187</td><td>5.3%</td><td>106,000</td><td>Cincinnati, Ohio</td></tr><tr><td>52</td><td>United States Postal Service</td><td>Logistics</td><td>78,620</td><td>2.0%</td><td>576,000</td><td>Washington, D.C.</td></tr><tr><td>53</td><td>Albertsons</td><td>Retail</td><td>77,650</td><td>8.0%</td><td>198,650</td><td>Boise, Idaho</td></tr><tr><td>54</td><td>General Electric</td><td>Conglomerate</td><td>76,555</td><td>3.2%</td><td>172,000</td><td>Boston, Massachusetts</td></tr><tr><td>55</td><td>MetLife</td><td>Financials</td><td>69,898</td><td>1.7%</td><td>45,000</td><td>New York City, New York</td></tr><tr><td>56</td><td>Goldman Sachs</td><td>Financials</td><td>68,711</td><td>5.7%</td><td>48,500</td><td>New York City, New York</td></tr><tr><td>57</td><td>Sysco</td><td>Food service</td><td>68,636</td><td>33.8%</td><td>70,510</td><td>Houston, Texas</td></tr><tr><td>58</td><td>Bunge Limited</td><td>Food industry</td><td>67,232</td><td>13.7%</td><td>23,000</td><td>White Plains, New York</td></tr><tr><td>59</td><td>RTX Corporation</td><td>Conglomerate</td><td>67,074</td><td>4.2%</td><td>182,000</td><td>Arlington County, Virginia</td></tr><tr><td>60</td><td>Boeing</td><td>Aerospace and defense</td><td>66,608</td><td>6.9%</td><td>156,000</td><td>Arlington County, Virginia</td></tr><tr><td>61</td><td>StoneX Group</td><td>Financials</td><td>66,036</td><td>55.3%</td><td>4,000[2]</td><td>New York City, New York</td></tr><tr><td>62</td><td>Lockheed Martin</td><td>Aerospace and defense</td><td>65,984</td><td>1.6%</td><td>116,000</td><td>Bethesda, Maryland</td></tr><tr><td>63</td><td>Morgan Stanley</td><td>Financials</td><td>65,936</td><td>7.9%</td><td>82,427</td><td>New York City, New York</td></tr><tr><td>64</td><td>Intel</td><td>Technology</td><td>63,054</td><td>20.1%</td><td>131,900</td><td>Santa Clara, California</td></tr><tr><td>65</td><td>HP</td><td>Technology</td><td>62,983</td><td>0.8%</td><td>58,000</td><td>Palo Alto, California</td></tr><tr><td>66</td><td>TD Synnex</td><td>Infotech</td><td>62,344</td><td>97.2%</td><td>28,500</td><td>Clearwater, Florida</td></tr><tr><td>67</td><td>IBM</td><td>Technology and cloud computing</td><td>60,530</td><td>16.3%</td><td>303,100</td><td>Armonk, New York</td></tr><tr><td>68</td><td>HCA Healthcare</td><td>Healthcare</td><td>60,233</td><td>2.5%</td><td>250,500</td><td>Nashville, Tennessee</td></tr><tr><td>69</td><td>Prudential Financial</td><td>Financials</td><td>60,050</td><td>15.3%</td><td>39,583</td><td>Newark, New Jersey</td></tr><tr><td>70</td><td>Caterpillar</td><td>Machinery</td><td>59,427</td><td>16.6%</td><td>109,100</td><td>Deerfield, Illinois</td></tr><tr><td>71</td><td>Merck & Co.</td><td>Pharmaceutical industry</td><td>59,283</td><td>15.8%</td><td>68,000</td><td>Kenilworth, New Jersey</td></tr><tr><td>72</td><td>World Fuel Services</td><td>Petroleum industry and logistics</td><td>59,043</td><td>88.4%</td><td>5,214</td><td>Miami, Florida</td></tr><tr><td>73</td><td>New York Life Insurance Company</td><td>Insurance</td><td>58,445</td><td>14.2%</td><td>15,050</td><td>New York City, New York</td></tr><tr><td>74</td><td>Enterprise Products</td><td>Petroleum industry</td><td>58,186</td><td>42.6%</td><td>7,300</td><td>Houston, Texas</td></tr><tr><td>75</td><td>AbbVie</td><td>Pharmaceutical industry</td><td>58,054</td><td>3.3%</td><td>50,000</td><td>Lake Bluff, Illinois</td></tr><tr><td>76</td><td>Plains All American Pipeline</td><td>Petroleum industry</td><td>57,342</td><td>36.3%</td><td>4,100</td><td>Houston, Texas</td></tr><tr><td>77</td><td>Dow Chemical Company</td><td>Chemical industry</td><td>56,902</td><td>3.5%</td><td>37,800</td><td>Midland, Michigan</td></tr><tr><td>78</td><td>AIG</td><td>Insurance</td><td>56,437</td><td>8.4%</td><td>26,200</td><td>New York City, New York</td></tr><tr><td>79</td><td>American Express</td><td>Financial</td><td>55,625</td><td>27.3%</td><td>77,300</td><td>New York City, New York</td></tr><tr><td>80</td><td>Publix</td><td>Retail</td><td>54,942</td><td>13.5%</td><td>242,000</td><td>Lakeland, Florida</td></tr><tr><td>81</td><td>Charter Communications</td><td>Telecommunications</td><td>54,022</td><td>4.5%</td><td>101,700</td><td>Stamford, Connecticut</td></tr><tr><td>82</td><td>Tyson Foods</td><td>Food processing</td><td>53,282</td><td>13.2%</td><td>142,000</td><td>Springdale, Arkansas</td></tr><tr><td>83</td><td>John Deere</td><td>Agriculture manufacturing</td><td>52,577</td><td>19.4%</td><td>82,239</td><td>Moline, Illinois</td></tr><tr><td>84</td><td>Cisco</td><td>Telecom hardware manufacturing</td><td>51,557</td><td>3.5%</td><td>83,300</td><td>San Jose, California</td></tr><tr><td>85</td><td>Nationwide Mutual Insurance Company</td><td>Financial</td><td>51,450</td><td>8.6%</td><td>24,791</td><td>Columbus, Ohio</td></tr><tr><td>86</td><td>Allstate</td><td>Insurance</td><td>51,412</td><td>3.4%</td><td>54,250</td><td>Northfield Township, Cook County, Illinois</td></tr><tr><td>87</td><td>Delta Air Lines</td><td>Airline</td><td>50,582</td><td>69.2%</td><td>95,000</td><td>Atlanta, Georgia</td></tr><tr><td>88</td><td>Liberty Mutual</td><td>Insurance</td><td>49,956</td><td>3.6%</td><td>50,000</td><td>Boston, Massachusetts</td></tr><tr><td>89</td><td>TJX</td><td>Retail</td><td>49,936</td><td>2.9%</td><td>329,000</td><td>Framingham, Massachusetts</td></tr><tr><td>90</td><td>Progressive Corporation</td><td>Insurance</td><td>49,611</td><td>4.0%</td><td>55,063</td><td>Mayfield Village, Ohio</td></tr><tr><td>91</td><td>American Airlines</td><td>Airline</td><td>48,971</td><td>63.9%</td><td>129,700</td><td>Fort Worth, Texas</td></tr><tr><td>92</td><td>CHS</td><td>Agriculture cooperative</td><td>47,194</td><td>24.3%</td><td>10,014</td><td>Inver Grove Heights, Minnesota</td></tr><tr><td>93</td><td>Performance Food Group</td><td>Food processing</td><td>47,194</td><td>61.6%</td><td>34,825</td><td>Richmond, Virginia</td></tr><tr><td>94</td><td>PBF Energy</td><td>Petroleum industry</td><td>46,830</td><td>71.8%</td><td>3,616</td><td>Parsippany–Troy Hills, New Jersey</td></tr><tr><td>95</td><td>Nike</td><td>Apparel</td><td>46,710</td><td>4.9%</td><td>79,100</td><td>Beaverton, Oregon</td></tr><tr><td>96</td><td>Best Buy</td><td>Retail</td><td>46,298</td><td>10.6%</td><td>71,100</td><td>Richfield, Minnesota</td></tr><tr><td>97</td><td>Bristol-Myers Squibb</td><td>Pharmaceutical industry</td><td>46,159</td><td>0.5%</td><td>34,300</td><td>New York City, New York</td></tr><tr><td>98</td><td>United Airlines</td><td>Airline</td><td>44,955</td><td>82.5%</td><td>92,795</td><td>Chicago, Illinois</td></tr><tr><td>99</td><td>Thermo Fisher Scientific</td><td>Laboratory instruments</td><td>44,915</td><td>14.5%</td><td>130,000</td><td>Waltham, Massachusetts</td></tr><tr><td>100</td><td>Qualcomm</td><td>Technology</td><td>44,200</td><td>31.7%</td><td>51,000</td><td>San Diego, California</td></tr></tbody></table></div>"
      ]
     },
     "metadata": {
      "application/vnd.databricks.v1+output": {
       "addedWidgets": {},
       "aggData": [],
       "aggError": "",
       "aggOverflow": false,
       "aggSchema": [],
       "aggSeriesLimitReached": false,
       "aggType": "",
       "arguments": {},
       "columnCustomDisplayInfos": {},
       "data": [
        [
         "Rank",
         "Name",
         "Industry",
         "Revenue (USD millions)",
         "Revenue growth",
         "Employees",
         "Headquarters"
        ],
        [
         "1",
         "Walmart",
         "Retail",
         "611,289",
         "6.7%",
         "2,100,000",
         "Bentonville, Arkansas"
        ],
        [
         "2",
         "Amazon",
         "Retail and cloud computing",
         "513,983",
         "9.4%",
         "1,540,000",
         "Seattle, Washington"
        ],
        [
         "3",
         "ExxonMobil",
         "Petroleum industry",
         "413,680",
         "44.8%",
         "62,000",
         "Spring, Texas"
        ],
        [
         "4",
         "Apple",
         "Electronics industry",
         "394,328",
         "7.8%",
         "164,000",
         "Cupertino, California"
        ],
        [
         "5",
         "UnitedHealth Group",
         "Healthcare",
         "324,162",
         "12.7%",
         "400,000",
         "Minnetonka, Minnesota"
        ],
        [
         "6",
         "CVS Health",
         "Healthcare",
         "322,467",
         "10.4%",
         "259,500",
         "Woonsocket, Rhode Island"
        ],
        [
         "7",
         "Berkshire Hathaway",
         "Conglomerate",
         "302,089",
         "9.4%",
         "383,000",
         "Omaha, Nebraska"
        ],
        [
         "8",
         "Alphabet",
         "Technology and cloud computing",
         "282,836",
         "9.8%",
         "156,000",
         "Mountain View, California"
        ],
        [
         "9",
         "McKesson Corporation",
         "Health",
         "276,711",
         "4.8%",
         "48,500",
         "Irving, Texas"
        ],
        [
         "10",
         "Chevron Corporation",
         "Petroleum industry",
         "246,252",
         "51.6%",
         "43,846",
         "San Ramon, California"
        ],
        [
         "11",
         "AmerisourceBergen",
         "Pharmacy wholesale",
         "238,587",
         "11.5%",
         "41,500",
         "Chesterbrook, Pennsylvania"
        ],
        [
         "12",
         "Costco",
         "Retail",
         "226,954",
         "15.8%",
         "304,000",
         "Issaquah, Washington"
        ],
        [
         "13",
         "Microsoft",
         "Technology and cloud computing",
         "198,270",
         "18.0%",
         "221,000",
         "Redmond, Washington"
        ],
        [
         "14",
         "Cardinal Health",
         "Healthcare",
         "181,364",
         "11.6%",
         "46,035",
         "Dublin, Ohio"
        ],
        [
         "15",
         "Cigna",
         "Health insurance",
         "180,516",
         "3.7%",
         "70,231",
         "Bloomfield, Connecticut"
        ],
        [
         "16",
         "Marathon Petroleum",
         "Petroleum industry",
         "180,012",
         "27.6%",
         "17,800",
         "Findlay, Ohio"
        ],
        [
         "17",
         "Phillips 66",
         "Petroleum industry",
         "175,702",
         "53.0%",
         "13,000",
         "Houston, Texas"
        ],
        [
         "18",
         "Valero Energy",
         "Petroleum industry",
         "171,189",
         "58.0%",
         "9,743",
         "San Antonio, Texas"
        ],
        [
         "19",
         "Ford Motor Company",
         "Automotive industry",
         "158,057",
         "15.9%",
         "173,000",
         "Dearborn, Michigan"
        ],
        [
         "20",
         "The Home Depot",
         "Retail",
         "157,403",
         "4.1%",
         "471,600",
         "Atlanta, Georgia"
        ],
        [
         "21",
         "General Motors",
         "Automotive industry",
         "156,735",
         "23.4%",
         "167,000",
         "Detroit, Michigan"
        ],
        [
         "22",
         "Elevance Health",
         "Healthcare",
         "156,595",
         "13.0%",
         "102,200",
         "Indianapolis, Indiana"
        ],
        [
         "23",
         "JPMorgan Chase",
         "Financial services",
         "154,792",
         "21.7%",
         "293,723",
         "New York City, New York"
        ],
        [
         "24",
         "Kroger",
         "Retail",
         "148,258",
         "7.5%",
         "430,000",
         "Cincinnati, Ohio"
        ],
        [
         "25",
         "Centene",
         "Healthcare",
         "144,547",
         "14.7%",
         "74,300",
         "St. Louis, Missouri"
        ],
        [
         "26",
         "Verizon Communications",
         "Telecommunications",
         "136,835",
         "2.4%",
         "117,100",
         "New York City, New York"
        ],
        [
         "27",
         "Walgreens Boots Alliance",
         "Pharmaceutical industry",
         "132,703",
         "10.7%",
         "262,500",
         "Deerfield, Illinois"
        ],
        [
         "28",
         "Fannie Mae",
         "Financials",
         "121,596",
         "19.7%",
         "8,000",
         "Washington, D.C."
        ],
        [
         "29",
         "Comcast",
         "Telecommunications",
         "121,427",
         "4.3%",
         "186,000",
         "Philadelphia, Pennsylvania"
        ],
        [
         "30",
         "AT&T",
         "Conglomerate and telecomunications",
         "120,741",
         "28.5%",
         "160,700",
         "Dallas, Texas"
        ],
        [
         "31",
         "Meta Platforms",
         "Technology",
         "116,609",
         "1.1%",
         "86,482",
         "Menlo Park, California"
        ],
        [
         "32",
         "Bank of America",
         "Financials",
         "115,053",
         "22.6%",
         "216,823",
         "Charlotte, North Carolina"
        ],
        [
         "33",
         "Target Corporation",
         "Retail",
         "109,120",
         "2.9%",
         "440,000",
         "Minneapolis, Minnesota"
        ],
        [
         "34",
         "Dell Technologies",
         "Technology",
         "102,301",
         "4.4%",
         "133,000",
         "Round Rock, Texas"
        ],
        [
         "35",
         "Archer Daniels Midland",
         "Food industry",
         "101,556",
         "19.1%",
         "41,181",
         "Chicago, Illinois"
        ],
        [
         "36",
         "Citigroup",
         "Financials",
         "101,078",
         "26.6%",
         "238,104",
         "New York City, New York"
        ],
        [
         "37",
         "United Parcel Service",
         "Transportation",
         "100,338",
         "3.1%",
         "404,700",
         "Atlanta, Georgia"
        ],
        [
         "38",
         "Pfizer",
         "Pharmaceutical industry",
         "100,330",
         "23.4%",
         "83,000",
         "New York City, New York"
        ],
        [
         "39",
         "Lowe's",
         "Retail",
         "97,059",
         "0.8%",
         "244,500",
         "Mooresville, North Carolina"
        ],
        [
         "40",
         "Johnson & Johnson",
         "Pharmaceutical industry",
         "94,943",
         "1.2%",
         "152,700",
         "New Brunswick, New Jersey"
        ],
        [
         "41",
         "FedEx",
         "Transportation",
         "93,512",
         "11.4%",
         "518,249",
         "Memphis, Tennessee"
        ],
        [
         "42",
         "Humana",
         "Health insurance",
         "92,870",
         "11.8%",
         "67,100",
         "Louisville, Kentucky"
        ],
        [
         "43",
         "Energy Transfer Partners",
         "Petroleum industry",
         "89,876",
         "33.3%",
         "12,565",
         "Dallas, Texas"
        ],
        [
         "44",
         "State Farm",
         "Financials",
         "89,328",
         "8.6%",
         "60,519",
         "Bloomington, Illinois"
        ],
        [
         "45",
         "Freddie Mac",
         "Financials",
         "86,717",
         "31.6%",
         "7,819",
         "McLean, Virginia"
        ],
        [
         "46",
         "PepsiCo",
         "Beverage",
         "86,859",
         "8.7%",
         "315,000",
         "Purchase, New York"
        ],
        [
         "47",
         "Wells Fargo",
         "Financials",
         "82,859",
         "0.5%",
         "238,000",
         "San Francisco, California"
        ],
        [
         "48",
         "The Walt Disney Company",
         "Media",
         "82,722",
         "22.7%",
         "195,800",
         "Burbank, California"
        ],
        [
         "49",
         "ConocoPhillips",
         "Petroleum industry",
         "82,156",
         "69.9%",
         "9,500",
         "Houston, Texas"
        ],
        [
         "50",
         "Tesla",
         "Automotive and energy",
         "81,462",
         "51.4%",
         "127,855",
         "Austin, Texas"
        ],
        [
         "51",
         "Procter & Gamble",
         "Consumer products manufacturing",
         "80,187",
         "5.3%",
         "106,000",
         "Cincinnati, Ohio"
        ],
        [
         "52",
         "United States Postal Service",
         "Logistics",
         "78,620",
         "2.0%",
         "576,000",
         "Washington, D.C."
        ],
        [
         "53",
         "Albertsons",
         "Retail",
         "77,650",
         "8.0%",
         "198,650",
         "Boise, Idaho"
        ],
        [
         "54",
         "General Electric",
         "Conglomerate",
         "76,555",
         "3.2%",
         "172,000",
         "Boston, Massachusetts"
        ],
        [
         "55",
         "MetLife",
         "Financials",
         "69,898",
         "1.7%",
         "45,000",
         "New York City, New York"
        ],
        [
         "56",
         "Goldman Sachs",
         "Financials",
         "68,711",
         "5.7%",
         "48,500",
         "New York City, New York"
        ],
        [
         "57",
         "Sysco",
         "Food service",
         "68,636",
         "33.8%",
         "70,510",
         "Houston, Texas"
        ],
        [
         "58",
         "Bunge Limited",
         "Food industry",
         "67,232",
         "13.7%",
         "23,000",
         "White Plains, New York"
        ],
        [
         "59",
         "RTX Corporation",
         "Conglomerate",
         "67,074",
         "4.2%",
         "182,000",
         "Arlington County, Virginia"
        ],
        [
         "60",
         "Boeing",
         "Aerospace and defense",
         "66,608",
         "6.9%",
         "156,000",
         "Arlington County, Virginia"
        ],
        [
         "61",
         "StoneX Group",
         "Financials",
         "66,036",
         "55.3%",
         "4,000[2]",
         "New York City, New York"
        ],
        [
         "62",
         "Lockheed Martin",
         "Aerospace and defense",
         "65,984",
         "1.6%",
         "116,000",
         "Bethesda, Maryland"
        ],
        [
         "63",
         "Morgan Stanley",
         "Financials",
         "65,936",
         "7.9%",
         "82,427",
         "New York City, New York"
        ],
        [
         "64",
         "Intel",
         "Technology",
         "63,054",
         "20.1%",
         "131,900",
         "Santa Clara, California"
        ],
        [
         "65",
         "HP",
         "Technology",
         "62,983",
         "0.8%",
         "58,000",
         "Palo Alto, California"
        ],
        [
         "66",
         "TD Synnex",
         "Infotech",
         "62,344",
         "97.2%",
         "28,500",
         "Clearwater, Florida"
        ],
        [
         "67",
         "IBM",
         "Technology and cloud computing",
         "60,530",
         "16.3%",
         "303,100",
         "Armonk, New York"
        ],
        [
         "68",
         "HCA Healthcare",
         "Healthcare",
         "60,233",
         "2.5%",
         "250,500",
         "Nashville, Tennessee"
        ],
        [
         "69",
         "Prudential Financial",
         "Financials",
         "60,050",
         "15.3%",
         "39,583",
         "Newark, New Jersey"
        ],
        [
         "70",
         "Caterpillar",
         "Machinery",
         "59,427",
         "16.6%",
         "109,100",
         "Deerfield, Illinois"
        ],
        [
         "71",
         "Merck & Co.",
         "Pharmaceutical industry",
         "59,283",
         "15.8%",
         "68,000",
         "Kenilworth, New Jersey"
        ],
        [
         "72",
         "World Fuel Services",
         "Petroleum industry and logistics",
         "59,043",
         "88.4%",
         "5,214",
         "Miami, Florida"
        ],
        [
         "73",
         "New York Life Insurance Company",
         "Insurance",
         "58,445",
         "14.2%",
         "15,050",
         "New York City, New York"
        ],
        [
         "74",
         "Enterprise Products",
         "Petroleum industry",
         "58,186",
         "42.6%",
         "7,300",
         "Houston, Texas"
        ],
        [
         "75",
         "AbbVie",
         "Pharmaceutical industry",
         "58,054",
         "3.3%",
         "50,000",
         "Lake Bluff, Illinois"
        ],
        [
         "76",
         "Plains All American Pipeline",
         "Petroleum industry",
         "57,342",
         "36.3%",
         "4,100",
         "Houston, Texas"
        ],
        [
         "77",
         "Dow Chemical Company",
         "Chemical industry",
         "56,902",
         "3.5%",
         "37,800",
         "Midland, Michigan"
        ],
        [
         "78",
         "AIG",
         "Insurance",
         "56,437",
         "8.4%",
         "26,200",
         "New York City, New York"
        ],
        [
         "79",
         "American Express",
         "Financial",
         "55,625",
         "27.3%",
         "77,300",
         "New York City, New York"
        ],
        [
         "80",
         "Publix",
         "Retail",
         "54,942",
         "13.5%",
         "242,000",
         "Lakeland, Florida"
        ],
        [
         "81",
         "Charter Communications",
         "Telecommunications",
         "54,022",
         "4.5%",
         "101,700",
         "Stamford, Connecticut"
        ],
        [
         "82",
         "Tyson Foods",
         "Food processing",
         "53,282",
         "13.2%",
         "142,000",
         "Springdale, Arkansas"
        ],
        [
         "83",
         "John Deere",
         "Agriculture manufacturing",
         "52,577",
         "19.4%",
         "82,239",
         "Moline, Illinois"
        ],
        [
         "84",
         "Cisco",
         "Telecom hardware manufacturing",
         "51,557",
         "3.5%",
         "83,300",
         "San Jose, California"
        ],
        [
         "85",
         "Nationwide Mutual Insurance Company",
         "Financial",
         "51,450",
         "8.6%",
         "24,791",
         "Columbus, Ohio"
        ],
        [
         "86",
         "Allstate",
         "Insurance",
         "51,412",
         "3.4%",
         "54,250",
         "Northfield Township, Cook County, Illinois"
        ],
        [
         "87",
         "Delta Air Lines",
         "Airline",
         "50,582",
         "69.2%",
         "95,000",
         "Atlanta, Georgia"
        ],
        [
         "88",
         "Liberty Mutual",
         "Insurance",
         "49,956",
         "3.6%",
         "50,000",
         "Boston, Massachusetts"
        ],
        [
         "89",
         "TJX",
         "Retail",
         "49,936",
         "2.9%",
         "329,000",
         "Framingham, Massachusetts"
        ],
        [
         "90",
         "Progressive Corporation",
         "Insurance",
         "49,611",
         "4.0%",
         "55,063",
         "Mayfield Village, Ohio"
        ],
        [
         "91",
         "American Airlines",
         "Airline",
         "48,971",
         "63.9%",
         "129,700",
         "Fort Worth, Texas"
        ],
        [
         "92",
         "CHS",
         "Agriculture cooperative",
         "47,194",
         "24.3%",
         "10,014",
         "Inver Grove Heights, Minnesota"
        ],
        [
         "93",
         "Performance Food Group",
         "Food processing",
         "47,194",
         "61.6%",
         "34,825",
         "Richmond, Virginia"
        ],
        [
         "94",
         "PBF Energy",
         "Petroleum industry",
         "46,830",
         "71.8%",
         "3,616",
         "Parsippany–Troy Hills, New Jersey"
        ],
        [
         "95",
         "Nike",
         "Apparel",
         "46,710",
         "4.9%",
         "79,100",
         "Beaverton, Oregon"
        ],
        [
         "96",
         "Best Buy",
         "Retail",
         "46,298",
         "10.6%",
         "71,100",
         "Richfield, Minnesota"
        ],
        [
         "97",
         "Bristol-Myers Squibb",
         "Pharmaceutical industry",
         "46,159",
         "0.5%",
         "34,300",
         "New York City, New York"
        ],
        [
         "98",
         "United Airlines",
         "Airline",
         "44,955",
         "82.5%",
         "92,795",
         "Chicago, Illinois"
        ],
        [
         "99",
         "Thermo Fisher Scientific",
         "Laboratory instruments",
         "44,915",
         "14.5%",
         "130,000",
         "Waltham, Massachusetts"
        ],
        [
         "100",
         "Qualcomm",
         "Technology",
         "44,200",
         "31.7%",
         "51,000",
         "San Diego, California"
        ]
       ],
       "datasetInfos": [],
       "dbfsResultPath": null,
       "isJsonSchema": true,
       "metadata": {},
       "overflow": false,
       "plotOptions": {
        "customPlotOptions": {},
        "displayType": "table",
        "pivotAggregation": null,
        "pivotColumns": null,
        "xColumns": null,
        "yColumns": null
       },
       "removedWidgets": [],
       "schema": [
        {
         "metadata": "{}",
         "name": "_c0",
         "type": "\"string\""
        },
        {
         "metadata": "{}",
         "name": "_c1",
         "type": "\"string\""
        },
        {
         "metadata": "{}",
         "name": "_c2",
         "type": "\"string\""
        },
        {
         "metadata": "{}",
         "name": "_c3",
         "type": "\"string\""
        },
        {
         "metadata": "{}",
         "name": "_c4",
         "type": "\"string\""
        },
        {
         "metadata": "{}",
         "name": "_c5",
         "type": "\"string\""
        },
        {
         "metadata": "{}",
         "name": "_c6",
         "type": "\"string\""
        }
       ],
       "type": "table"
      }
     },
     "output_type": "display_data"
    }
   ],
   "source": [
    "r=spark.read.csv('/top company in US')\n",
    "display(r)"
   ]
  },
  {
   "cell_type": "code",
   "execution_count": 0,
   "metadata": {
    "application/vnd.databricks.v1+cell": {
     "cellMetadata": {
      "byteLimit": 2048000,
      "rowLimit": 10000
     },
     "inputWidgets": {},
     "nuid": "93a9ce54-21c8-4559-9e0c-b8f2ee864599",
     "showTitle": false,
     "title": ""
    }
   },
   "outputs": [
    {
     "output_type": "stream",
     "name": "stdout",
     "output_type": "stream",
     "text": [
      "Python interpreter will be restarted.\nRequirement already satisfied: snowflake in /local_disk0/.ephemeral_nfs/envs/pythonEnv-2b873d7b-ef5d-43e6-8576-7544ca3e7057/lib/python3.9/site-packages (0.6.0)\nRequirement already satisfied: snowflake-core==0.6.0 in /local_disk0/.ephemeral_nfs/envs/pythonEnv-2b873d7b-ef5d-43e6-8576-7544ca3e7057/lib/python3.9/site-packages (from snowflake) (0.6.0)\nRequirement already satisfied: snowflake-legacy in /local_disk0/.ephemeral_nfs/envs/pythonEnv-2b873d7b-ef5d-43e6-8576-7544ca3e7057/lib/python3.9/site-packages (from snowflake) (0.5.0)\nRequirement already satisfied: python-dateutil>=2.8.2 in /databricks/python3/lib/python3.9/site-packages (from snowflake-core==0.6.0->snowflake) (2.8.2)\nRequirement already satisfied: pydantic>=1.10.7 in /local_disk0/.ephemeral_nfs/envs/pythonEnv-2b873d7b-ef5d-43e6-8576-7544ca3e7057/lib/python3.9/site-packages (from snowflake-core==0.6.0->snowflake) (2.6.4)\nRequirement already satisfied: urllib3 in /databricks/python3/lib/python3.9/site-packages (from snowflake-core==0.6.0->snowflake) (1.26.9)\nRequirement already satisfied: snowflake-snowpark-python<2.0.0,>=1.5.0 in /local_disk0/.ephemeral_nfs/envs/pythonEnv-2b873d7b-ef5d-43e6-8576-7544ca3e7057/lib/python3.9/site-packages (from snowflake-core==0.6.0->snowflake) (1.13.0)\nRequirement already satisfied: atpublic>=4 in /local_disk0/.ephemeral_nfs/envs/pythonEnv-2b873d7b-ef5d-43e6-8576-7544ca3e7057/lib/python3.9/site-packages (from snowflake-core==0.6.0->snowflake) (4.0)\nRequirement already satisfied: annotated-types>=0.4.0 in /local_disk0/.ephemeral_nfs/envs/pythonEnv-2b873d7b-ef5d-43e6-8576-7544ca3e7057/lib/python3.9/site-packages (from pydantic>=1.10.7->snowflake-core==0.6.0->snowflake) (0.6.0)\nRequirement already satisfied: typing-extensions>=4.6.1 in /local_disk0/.ephemeral_nfs/envs/pythonEnv-2b873d7b-ef5d-43e6-8576-7544ca3e7057/lib/python3.9/site-packages (from pydantic>=1.10.7->snowflake-core==0.6.0->snowflake) (4.10.0)\nRequirement already satisfied: pydantic-core==2.16.3 in /local_disk0/.ephemeral_nfs/envs/pythonEnv-2b873d7b-ef5d-43e6-8576-7544ca3e7057/lib/python3.9/site-packages (from pydantic>=1.10.7->snowflake-core==0.6.0->snowflake) (2.16.3)\nRequirement already satisfied: six>=1.5 in /databricks/python3/lib/python3.9/site-packages (from python-dateutil>=2.8.2->snowflake-core==0.6.0->snowflake) (1.16.0)\nRequirement already satisfied: wheel in /databricks/python3/lib/python3.9/site-packages (from snowflake-snowpark-python<2.0.0,>=1.5.0->snowflake-core==0.6.0->snowflake) (0.37.0)\nRequirement already satisfied: setuptools>=40.6.0 in /databricks/python3/lib/python3.9/site-packages (from snowflake-snowpark-python<2.0.0,>=1.5.0->snowflake-core==0.6.0->snowflake) (61.2.0)\nRequirement already satisfied: cloudpickle!=2.1.0,!=2.2.0,<=2.2.1,>=1.6.0 in /local_disk0/.ephemeral_nfs/envs/pythonEnv-2b873d7b-ef5d-43e6-8576-7544ca3e7057/lib/python3.9/site-packages (from snowflake-snowpark-python<2.0.0,>=1.5.0->snowflake-core==0.6.0->snowflake) (2.2.1)\nRequirement already satisfied: snowflake-connector-python<4.0.0,>=3.6.0 in /local_disk0/.ephemeral_nfs/envs/pythonEnv-2b873d7b-ef5d-43e6-8576-7544ca3e7057/lib/python3.9/site-packages (from snowflake-snowpark-python<2.0.0,>=1.5.0->snowflake-core==0.6.0->snowflake) (3.7.1)\nRequirement already satisfied: pyyaml in /local_disk0/.ephemeral_nfs/envs/pythonEnv-2b873d7b-ef5d-43e6-8576-7544ca3e7057/lib/python3.9/site-packages (from snowflake-snowpark-python<2.0.0,>=1.5.0->snowflake-core==0.6.0->snowflake) (6.0.1)\nRequirement already satisfied: asn1crypto<2.0.0,>0.24.0 in /local_disk0/.ephemeral_nfs/envs/pythonEnv-2b873d7b-ef5d-43e6-8576-7544ca3e7057/lib/python3.9/site-packages (from snowflake-connector-python<4.0.0,>=3.6.0->snowflake-snowpark-python<2.0.0,>=1.5.0->snowflake-core==0.6.0->snowflake) (1.5.1)\nRequirement already satisfied: pyjwt<3.0.0 in /local_disk0/.ephemeral_nfs/envs/pythonEnv-2b873d7b-ef5d-43e6-8576-7544ca3e7057/lib/python3.9/site-packages (from snowflake-connector-python<4.0.0,>=3.6.0->snowflake-snowpark-python<2.0.0,>=1.5.0->snowflake-core==0.6.0->snowflake) (2.8.0)\nRequirement already satisfied: platformdirs<4.0.0,>=2.6.0 in /usr/local/lib/python3.9/dist-packages (from snowflake-connector-python<4.0.0,>=3.6.0->snowflake-snowpark-python<2.0.0,>=1.5.0->snowflake-core==0.6.0->snowflake) (2.6.2)\nRequirement already satisfied: pyOpenSSL<25.0.0,>=16.2.0 in /local_disk0/.ephemeral_nfs/envs/pythonEnv-2b873d7b-ef5d-43e6-8576-7544ca3e7057/lib/python3.9/site-packages (from snowflake-connector-python<4.0.0,>=3.6.0->snowflake-snowpark-python<2.0.0,>=1.5.0->snowflake-core==0.6.0->snowflake) (24.1.0)\nRequirement already satisfied: filelock<4,>=3.5 in /usr/local/lib/python3.9/dist-packages (from snowflake-connector-python<4.0.0,>=3.6.0->snowflake-snowpark-python<2.0.0,>=1.5.0->snowflake-core==0.6.0->snowflake) (3.9.0)\nRequirement already satisfied: tomlkit in /local_disk0/.ephemeral_nfs/envs/pythonEnv-2b873d7b-ef5d-43e6-8576-7544ca3e7057/lib/python3.9/site-packages (from snowflake-connector-python<4.0.0,>=3.6.0->snowflake-snowpark-python<2.0.0,>=1.5.0->snowflake-core==0.6.0->snowflake) (0.12.4)\nRequirement already satisfied: cryptography<43.0.0,>=3.1.0 in /local_disk0/.ephemeral_nfs/envs/pythonEnv-2b873d7b-ef5d-43e6-8576-7544ca3e7057/lib/python3.9/site-packages (from snowflake-connector-python<4.0.0,>=3.6.0->snowflake-snowpark-python<2.0.0,>=1.5.0->snowflake-core==0.6.0->snowflake) (42.0.5)\nRequirement already satisfied: charset-normalizer<4,>=2 in /databricks/python3/lib/python3.9/site-packages (from snowflake-connector-python<4.0.0,>=3.6.0->snowflake-snowpark-python<2.0.0,>=1.5.0->snowflake-core==0.6.0->snowflake) (2.0.4)\nRequirement already satisfied: pytz in /databricks/python3/lib/python3.9/site-packages (from snowflake-connector-python<4.0.0,>=3.6.0->snowflake-snowpark-python<2.0.0,>=1.5.0->snowflake-core==0.6.0->snowflake) (2021.3)\nRequirement already satisfied: certifi>=2017.4.17 in /databricks/python3/lib/python3.9/site-packages (from snowflake-connector-python<4.0.0,>=3.6.0->snowflake-snowpark-python<2.0.0,>=1.5.0->snowflake-core==0.6.0->snowflake) (2021.10.8)\nRequirement already satisfied: idna<4,>=2.5 in /databricks/python3/lib/python3.9/site-packages (from snowflake-connector-python<4.0.0,>=3.6.0->snowflake-snowpark-python<2.0.0,>=1.5.0->snowflake-core==0.6.0->snowflake) (3.3)\nRequirement already satisfied: packaging in /databricks/python3/lib/python3.9/site-packages (from snowflake-connector-python<4.0.0,>=3.6.0->snowflake-snowpark-python<2.0.0,>=1.5.0->snowflake-core==0.6.0->snowflake) (21.3)\nRequirement already satisfied: cffi<2.0.0,>=1.9 in /databricks/python3/lib/python3.9/site-packages (from snowflake-connector-python<4.0.0,>=3.6.0->snowflake-snowpark-python<2.0.0,>=1.5.0->snowflake-core==0.6.0->snowflake) (1.15.0)\nRequirement already satisfied: sortedcontainers>=2.4.0 in /local_disk0/.ephemeral_nfs/envs/pythonEnv-2b873d7b-ef5d-43e6-8576-7544ca3e7057/lib/python3.9/site-packages (from snowflake-connector-python<4.0.0,>=3.6.0->snowflake-snowpark-python<2.0.0,>=1.5.0->snowflake-core==0.6.0->snowflake) (2.4.0)\nRequirement already satisfied: requests<3.0.0 in /databricks/python3/lib/python3.9/site-packages (from snowflake-connector-python<4.0.0,>=3.6.0->snowflake-snowpark-python<2.0.0,>=1.5.0->snowflake-core==0.6.0->snowflake) (2.27.1)\nRequirement already satisfied: pycparser in /databricks/python3/lib/python3.9/site-packages (from cffi<2.0.0,>=1.9->snowflake-connector-python<4.0.0,>=3.6.0->snowflake-snowpark-python<2.0.0,>=1.5.0->snowflake-core==0.6.0->snowflake) (2.21)\nRequirement already satisfied: pyparsing!=3.0.5,>=2.0.2 in /databricks/python3/lib/python3.9/site-packages (from packaging->snowflake-connector-python<4.0.0,>=3.6.0->snowflake-snowpark-python<2.0.0,>=1.5.0->snowflake-core==0.6.0->snowflake) (3.0.4)\nPython interpreter will be restarted.\nPython interpreter will be restarted.\nRequirement already satisfied: snowflake-connector-python in /local_disk0/.ephemeral_nfs/envs/pythonEnv-2b873d7b-ef5d-43e6-8576-7544ca3e7057/lib/python3.9/site-packages (3.7.1)\nRequirement already satisfied: asn1crypto<2.0.0,>0.24.0 in /local_disk0/.ephemeral_nfs/envs/pythonEnv-2b873d7b-ef5d-43e6-8576-7544ca3e7057/lib/python3.9/site-packages (from snowflake-connector-python) (1.5.1)\nRequirement already satisfied: pyjwt<3.0.0 in /local_disk0/.ephemeral_nfs/envs/pythonEnv-2b873d7b-ef5d-43e6-8576-7544ca3e7057/lib/python3.9/site-packages (from snowflake-connector-python) (2.8.0)\nRequirement already satisfied: platformdirs<4.0.0,>=2.6.0 in /usr/local/lib/python3.9/dist-packages (from snowflake-connector-python) (2.6.2)\nRequirement already satisfied: pyOpenSSL<25.0.0,>=16.2.0 in /local_disk0/.ephemeral_nfs/envs/pythonEnv-2b873d7b-ef5d-43e6-8576-7544ca3e7057/lib/python3.9/site-packages (from snowflake-connector-python) (24.1.0)\nRequirement already satisfied: filelock<4,>=3.5 in /usr/local/lib/python3.9/dist-packages (from snowflake-connector-python) (3.9.0)\nRequirement already satisfied: tomlkit in /local_disk0/.ephemeral_nfs/envs/pythonEnv-2b873d7b-ef5d-43e6-8576-7544ca3e7057/lib/python3.9/site-packages (from snowflake-connector-python) (0.12.4)\nRequirement already satisfied: cryptography<43.0.0,>=3.1.0 in /local_disk0/.ephemeral_nfs/envs/pythonEnv-2b873d7b-ef5d-43e6-8576-7544ca3e7057/lib/python3.9/site-packages (from snowflake-connector-python) (42.0.5)\nRequirement already satisfied: charset-normalizer<4,>=2 in /databricks/python3/lib/python3.9/site-packages (from snowflake-connector-python) (2.0.4)\nRequirement already satisfied: pytz in /databricks/python3/lib/python3.9/site-packages (from snowflake-connector-python) (2021.3)\nRequirement already satisfied: certifi>=2017.4.17 in /databricks/python3/lib/python3.9/site-packages (from snowflake-connector-python) (2021.10.8)\nRequirement already satisfied: urllib3<2.0.0,>=1.21.1 in /databricks/python3/lib/python3.9/site-packages (from snowflake-connector-python) (1.26.9)\nRequirement already satisfied: idna<4,>=2.5 in /databricks/python3/lib/python3.9/site-packages (from snowflake-connector-python) (3.3)\nRequirement already satisfied: packaging in /databricks/python3/lib/python3.9/site-packages (from snowflake-connector-python) (21.3)\nRequirement already satisfied: typing-extensions<5,>=4.3 in /local_disk0/.ephemeral_nfs/envs/pythonEnv-2b873d7b-ef5d-43e6-8576-7544ca3e7057/lib/python3.9/site-packages (from snowflake-connector-python) (4.10.0)\nRequirement already satisfied: cffi<2.0.0,>=1.9 in /databricks/python3/lib/python3.9/site-packages (from snowflake-connector-python) (1.15.0)\nRequirement already satisfied: sortedcontainers>=2.4.0 in /local_disk0/.ephemeral_nfs/envs/pythonEnv-2b873d7b-ef5d-43e6-8576-7544ca3e7057/lib/python3.9/site-packages (from snowflake-connector-python) (2.4.0)\nRequirement already satisfied: requests<3.0.0 in /databricks/python3/lib/python3.9/site-packages (from snowflake-connector-python) (2.27.1)\nRequirement already satisfied: pycparser in /databricks/python3/lib/python3.9/site-packages (from cffi<2.0.0,>=1.9->snowflake-connector-python) (2.21)\nRequirement already satisfied: pyparsing!=3.0.5,>=2.0.2 in /databricks/python3/lib/python3.9/site-packages (from packaging->snowflake-connector-python) (3.0.4)\nPython interpreter will be restarted.\n"
     ]
    },
    {
     "output_type": "display_data",
     "data": {
      "application/vnd.databricks.v1+bamboolib_hint": "{\"pd.DataFrames\": [], \"version\": \"0.0.1\"}",
      "text/plain": []
     },
     "metadata": {},
     "output_type": "display_data"
    }
   ],
   "source": [
    "%pip install snowflake\n",
    "%pip install snowflake-connector-python\n",
    "\n",
    "import pandas as pd\n",
    "from pyspark.sql import SparkSession\n",
    "import snowflake.connector\n",
    "\n",
    "# Snowflake connection parameters\n",
    "account = 'My Account'\n",
    "user = 'My User Name'\n",
    "password = 'My Password'\n",
    "warehouse = 'My Warehouse Name'\n",
    "database = 'My Database Name'\n",
    "schema = 'My Schema Name'\n",
    "table_name = 'My Table Name'  # Table name without '.csv' suffix\n",
    "\n",
    "# Snowflake URL\n",
    "snowflake_url = ''\n",
    "\n",
    "# Load CSV into a Spark DataFrame\n",
    "# file_path = \"/games_table1.csv/part-00000-tid-7662509018983859286-e9725b8e-b65d-492e-a84f-bce0f1026892-129-1-c000.csv\"\n",
    "file_path = \"/top company in US\"\n",
    "spark = SparkSession.builder.appName(\"SnowflakeIntegration\").getOrCreate()\n",
    "df = spark.read.csv(file_path, header=True, inferSchema=True)\n",
    "\n",
    "# Snowflake connection\n",
    "conn = snowflake.connector.connect(\n",
    "    user=user,\n",
    "    password=password,\n",
    "    account=account,\n",
    "    warehouse=warehouse,\n",
    "    database=database,\n",
    "    schema=schema,\n",
    "    sfURL=snowflake_url  # Include Snowflake URL\n",
    ")\n",
    "\n",
    "# Create cursor\n",
    "cur = conn.cursor()\n",
    "\n",
    "# Replace spaces and dots in table name\n",
    "table_name_sanitized = table_name.replace(' ', '_').replace('.', '_')\n",
    "\n",
    "# Create table in Snowflake with dynamically generated column definitions\n",
    "column_definitions = ', '.join([f'\"{col}\" STRING' for col in df.columns])\n",
    "cur.execute(f'CREATE OR REPLACE TABLE \"{schema}\".\"{table_name_sanitized}\" ({column_definitions})')\n",
    "\n",
    "# Write DataFrame to Snowflake table\n",
    "df.write.format(\"snowflake\") \\\n",
    "    .option(\"sfURL\", snowflake_url) \\\n",
    "    .option(\"sfUser\", user) \\\n",
    "    .option(\"sfPassword\", password) \\\n",
    "    .option(\"sfDatabase\", database) \\\n",
    "    .option(\"sfSchema\", schema) \\\n",
    "    .option(\"sfWarehouse\", warehouse) \\\n",
    "    .option(\"dbtable\", table_name_sanitized) \\\n",
    "    .mode(\"overwrite\") \\\n",
    "    .save()\n",
    "\n",
    "# Commit the transaction\n",
    "conn.commit()\n",
    "\n",
    "# Close cursor and connection\n",
    "cur.close()\n",
    "conn.close()\n"
   ]
  }
 ],
 "metadata": {
  "application/vnd.databricks.v1+notebook": {
   "dashboards": [],
   "language": "python",
   "notebookMetadata": {
    "pythonIndentUnit": 4
   },
   "notebookName": "4.Web Scraped Company list",
   "widgets": {}
  }
 },
 "nbformat": 4,
 "nbformat_minor": 0
}
